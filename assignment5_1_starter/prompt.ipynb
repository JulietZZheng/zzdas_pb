{
 "cells": [
  {
   "cell_type": "markdown",
   "metadata": {
    "id": "CcUT6Fon_qRE"
   },
   "source": [
    "### Required Assignment 5.1: Will the Customer Accept the Coupon?\n",
    "\n",
    "**Context**\n",
    "\n",
    "Imagine driving through town and a coupon is delivered to your cell phone for a restaurant near where you are driving. Would you accept that coupon and take a short detour to the restaurant? Would you accept the coupon but use it on a subsequent trip? Would you ignore the coupon entirely? What if the coupon was for a bar instead of a restaurant? What about a coffee house? Would you accept a bar coupon with a minor passenger in the car? What about if it was just you and your partner in the car? Would weather impact the rate of acceptance? What about the time of day?\n",
    "\n",
    "Obviously, proximity to the business is a factor on whether the coupon is delivered to the driver or not, but what are the factors that determine whether a driver accepts the coupon once it is delivered to them? How would you determine whether a driver is likely to accept a coupon?\n",
    "\n",
    "**Overview**\n",
    "\n",
    "The goal of this project is to use what you know about visualizations and probability distributions to distinguish between customers who accepted a driving coupon versus those that did not.\n",
    "\n",
    "**Data**\n",
    "\n",
    "This data comes to us from the UCI Machine Learning repository and was collected via a survey on Amazon Mechanical Turk. The survey describes different driving scenarios including the destination, current time, weather, passenger, etc., and then ask the person whether he will accept the coupon if he is the driver. Answers that the user will drive there ‘right away’ or ‘later before the coupon expires’ are labeled as ‘Y = 1’ and answers ‘no, I do not want the coupon’ are labeled as ‘Y = 0’.  There are five different types of coupons -- less expensive restaurants (under \\$20), coffee houses, carry out & take away, bar, and more expensive restaurants (\\$20 - $50)."
   ]
  },
  {
   "cell_type": "markdown",
   "metadata": {
    "id": "1wORvMBJ_qRF"
   },
   "source": [
    "**Deliverables**\n",
    "\n",
    "Your final product should be a brief report that highlights the differences between customers who did and did not accept the coupons.  To explore the data you will utilize your knowledge of plotting, statistical summaries, and visualization using Python. You will publish your findings in a public facing github repository as your first portfolio piece.\n",
    "\n",
    "\n",
    "\n"
   ]
  },
  {
   "cell_type": "markdown",
   "metadata": {
    "id": "pG6_Ym6q_qRG"
   },
   "source": [
    "### Data Description\n",
    "Keep in mind that these values mentioned below are average values.\n",
    "\n",
    "The attributes of this data set include:\n",
    "1. User attributes\n",
    "    -  Gender: male, female\n",
    "    -  Age: below 21, 21 to 25, 26 to 30, etc.\n",
    "    -  Marital Status: single, married partner, unmarried partner, or widowed\n",
    "    -  Number of children: 0, 1, or more than 1\n",
    "    -  Education: high school, bachelors degree, associates degree, or graduate degree\n",
    "    -  Occupation: architecture & engineering, business & financial, etc.\n",
    "    -  Annual income: less than \\\\$12500, \\\\$12500 - \\\\$24999, \\\\$25000 - \\\\$37499, etc.\n",
    "    -  Number of times that he/she goes to a bar: 0, less than 1, 1 to 3, 4 to 8 or greater than 8\n",
    "    -  Number of times that he/she buys takeaway food: 0, less than 1, 1 to 3, 4 to 8 or greater\n",
    "    than 8\n",
    "    -  Number of times that he/she goes to a coffee house: 0, less than 1, 1 to 3, 4 to 8 or\n",
    "    greater than 8\n",
    "    -  Number of times that he/she eats at a restaurant with average expense less than \\\\$20 per\n",
    "    person: 0, less than 1, 1 to 3, 4 to 8 or greater than 8\n",
    "    -  Number of times that he/she goes to a bar: 0, less than 1, 1 to 3, 4 to 8 or greater than 8\n",
    "    \n",
    "\n",
    "2. Contextual attributes\n",
    "    - Driving destination: home, work, or no urgent destination\n",
    "    - Location of user, coupon and destination: we provide a map to show the geographical\n",
    "    location of the user, destination, and the venue, and we mark the distance between each\n",
    "    two places with time of driving. The user can see whether the venue is in the same\n",
    "    direction as the destination.\n",
    "    - Weather: sunny, rainy, or snowy\n",
    "    - Temperature: 30F, 55F, or 80F\n",
    "    - Time: 10AM, 2PM, or 6PM\n",
    "    - Passenger: alone, partner, kid(s), or friend(s)\n",
    "\n",
    "\n",
    "3. Coupon attributes\n",
    "    - time before it expires: 2 hours or one day"
   ]
  },
  {
   "cell_type": "code",
   "metadata": {
    "id": "dzNoP3o__qRG",
    "ExecuteTime": {
     "end_time": "2025-09-20T01:15:07.486284Z",
     "start_time": "2025-09-20T01:15:07.468167Z"
    }
   },
   "source": [
    "import matplotlib.pyplot as plt\n",
    "import seaborn as sns\n",
    "import pandas as pd\n",
    "import numpy as np"
   ],
   "outputs": [],
   "execution_count": 2
  },
  {
   "cell_type": "markdown",
   "metadata": {
    "id": "Ct8pI1uE_qRG"
   },
   "source": [
    "### Problems\n",
    "\n",
    "Use the prompts below to get started with your data analysis.  \n",
    "\n",
    "1. Read in the `coupons.csv` file.\n",
    "\n",
    "\n"
   ]
  },
  {
   "cell_type": "code",
   "metadata": {
    "id": "X0vbffYg_qRH",
    "ExecuteTime": {
     "end_time": "2025-09-20T01:15:12.910672Z",
     "start_time": "2025-09-20T01:15:12.836512Z"
    }
   },
   "source": [
    "data = pd.read_csv('data/coupons.csv')"
   ],
   "outputs": [],
   "execution_count": 3
  },
  {
   "cell_type": "code",
   "metadata": {
    "id": "TXofQ_DF_qRH",
    "outputId": "2fc96a2c-1112-4b54-f24f-dbb9bc88abfb",
    "ExecuteTime": {
     "end_time": "2025-09-20T01:15:16.394769Z",
     "start_time": "2025-09-20T01:15:16.359436Z"
    }
   },
   "source": [
    "data.head()"
   ],
   "outputs": [
    {
     "data": {
      "text/plain": [
       "       destination  passanger weather  temperature  time  \\\n",
       "0  No Urgent Place      Alone   Sunny           55   2PM   \n",
       "1  No Urgent Place  Friend(s)   Sunny           80  10AM   \n",
       "2  No Urgent Place  Friend(s)   Sunny           80  10AM   \n",
       "3  No Urgent Place  Friend(s)   Sunny           80   2PM   \n",
       "4  No Urgent Place  Friend(s)   Sunny           80   2PM   \n",
       "\n",
       "                  coupon expiration  gender age      maritalStatus  ...  \\\n",
       "0        Restaurant(<20)         1d  Female  21  Unmarried partner  ...   \n",
       "1           Coffee House         2h  Female  21  Unmarried partner  ...   \n",
       "2  Carry out & Take away         2h  Female  21  Unmarried partner  ...   \n",
       "3           Coffee House         2h  Female  21  Unmarried partner  ...   \n",
       "4           Coffee House         1d  Female  21  Unmarried partner  ...   \n",
       "\n",
       "   CoffeeHouse CarryAway RestaurantLessThan20 Restaurant20To50  \\\n",
       "0        never       NaN                  4~8              1~3   \n",
       "1        never       NaN                  4~8              1~3   \n",
       "2        never       NaN                  4~8              1~3   \n",
       "3        never       NaN                  4~8              1~3   \n",
       "4        never       NaN                  4~8              1~3   \n",
       "\n",
       "  toCoupon_GEQ5min toCoupon_GEQ15min toCoupon_GEQ25min direction_same  \\\n",
       "0                1                 0                 0              0   \n",
       "1                1                 0                 0              0   \n",
       "2                1                 1                 0              0   \n",
       "3                1                 1                 0              0   \n",
       "4                1                 1                 0              0   \n",
       "\n",
       "  direction_opp  Y  \n",
       "0             1  1  \n",
       "1             1  0  \n",
       "2             1  1  \n",
       "3             1  0  \n",
       "4             1  0  \n",
       "\n",
       "[5 rows x 26 columns]"
      ],
      "text/html": [
       "<div>\n",
       "<style scoped>\n",
       "    .dataframe tbody tr th:only-of-type {\n",
       "        vertical-align: middle;\n",
       "    }\n",
       "\n",
       "    .dataframe tbody tr th {\n",
       "        vertical-align: top;\n",
       "    }\n",
       "\n",
       "    .dataframe thead th {\n",
       "        text-align: right;\n",
       "    }\n",
       "</style>\n",
       "<table border=\"1\" class=\"dataframe\">\n",
       "  <thead>\n",
       "    <tr style=\"text-align: right;\">\n",
       "      <th></th>\n",
       "      <th>destination</th>\n",
       "      <th>passanger</th>\n",
       "      <th>weather</th>\n",
       "      <th>temperature</th>\n",
       "      <th>time</th>\n",
       "      <th>coupon</th>\n",
       "      <th>expiration</th>\n",
       "      <th>gender</th>\n",
       "      <th>age</th>\n",
       "      <th>maritalStatus</th>\n",
       "      <th>...</th>\n",
       "      <th>CoffeeHouse</th>\n",
       "      <th>CarryAway</th>\n",
       "      <th>RestaurantLessThan20</th>\n",
       "      <th>Restaurant20To50</th>\n",
       "      <th>toCoupon_GEQ5min</th>\n",
       "      <th>toCoupon_GEQ15min</th>\n",
       "      <th>toCoupon_GEQ25min</th>\n",
       "      <th>direction_same</th>\n",
       "      <th>direction_opp</th>\n",
       "      <th>Y</th>\n",
       "    </tr>\n",
       "  </thead>\n",
       "  <tbody>\n",
       "    <tr>\n",
       "      <th>0</th>\n",
       "      <td>No Urgent Place</td>\n",
       "      <td>Alone</td>\n",
       "      <td>Sunny</td>\n",
       "      <td>55</td>\n",
       "      <td>2PM</td>\n",
       "      <td>Restaurant(&lt;20)</td>\n",
       "      <td>1d</td>\n",
       "      <td>Female</td>\n",
       "      <td>21</td>\n",
       "      <td>Unmarried partner</td>\n",
       "      <td>...</td>\n",
       "      <td>never</td>\n",
       "      <td>NaN</td>\n",
       "      <td>4~8</td>\n",
       "      <td>1~3</td>\n",
       "      <td>1</td>\n",
       "      <td>0</td>\n",
       "      <td>0</td>\n",
       "      <td>0</td>\n",
       "      <td>1</td>\n",
       "      <td>1</td>\n",
       "    </tr>\n",
       "    <tr>\n",
       "      <th>1</th>\n",
       "      <td>No Urgent Place</td>\n",
       "      <td>Friend(s)</td>\n",
       "      <td>Sunny</td>\n",
       "      <td>80</td>\n",
       "      <td>10AM</td>\n",
       "      <td>Coffee House</td>\n",
       "      <td>2h</td>\n",
       "      <td>Female</td>\n",
       "      <td>21</td>\n",
       "      <td>Unmarried partner</td>\n",
       "      <td>...</td>\n",
       "      <td>never</td>\n",
       "      <td>NaN</td>\n",
       "      <td>4~8</td>\n",
       "      <td>1~3</td>\n",
       "      <td>1</td>\n",
       "      <td>0</td>\n",
       "      <td>0</td>\n",
       "      <td>0</td>\n",
       "      <td>1</td>\n",
       "      <td>0</td>\n",
       "    </tr>\n",
       "    <tr>\n",
       "      <th>2</th>\n",
       "      <td>No Urgent Place</td>\n",
       "      <td>Friend(s)</td>\n",
       "      <td>Sunny</td>\n",
       "      <td>80</td>\n",
       "      <td>10AM</td>\n",
       "      <td>Carry out &amp; Take away</td>\n",
       "      <td>2h</td>\n",
       "      <td>Female</td>\n",
       "      <td>21</td>\n",
       "      <td>Unmarried partner</td>\n",
       "      <td>...</td>\n",
       "      <td>never</td>\n",
       "      <td>NaN</td>\n",
       "      <td>4~8</td>\n",
       "      <td>1~3</td>\n",
       "      <td>1</td>\n",
       "      <td>1</td>\n",
       "      <td>0</td>\n",
       "      <td>0</td>\n",
       "      <td>1</td>\n",
       "      <td>1</td>\n",
       "    </tr>\n",
       "    <tr>\n",
       "      <th>3</th>\n",
       "      <td>No Urgent Place</td>\n",
       "      <td>Friend(s)</td>\n",
       "      <td>Sunny</td>\n",
       "      <td>80</td>\n",
       "      <td>2PM</td>\n",
       "      <td>Coffee House</td>\n",
       "      <td>2h</td>\n",
       "      <td>Female</td>\n",
       "      <td>21</td>\n",
       "      <td>Unmarried partner</td>\n",
       "      <td>...</td>\n",
       "      <td>never</td>\n",
       "      <td>NaN</td>\n",
       "      <td>4~8</td>\n",
       "      <td>1~3</td>\n",
       "      <td>1</td>\n",
       "      <td>1</td>\n",
       "      <td>0</td>\n",
       "      <td>0</td>\n",
       "      <td>1</td>\n",
       "      <td>0</td>\n",
       "    </tr>\n",
       "    <tr>\n",
       "      <th>4</th>\n",
       "      <td>No Urgent Place</td>\n",
       "      <td>Friend(s)</td>\n",
       "      <td>Sunny</td>\n",
       "      <td>80</td>\n",
       "      <td>2PM</td>\n",
       "      <td>Coffee House</td>\n",
       "      <td>1d</td>\n",
       "      <td>Female</td>\n",
       "      <td>21</td>\n",
       "      <td>Unmarried partner</td>\n",
       "      <td>...</td>\n",
       "      <td>never</td>\n",
       "      <td>NaN</td>\n",
       "      <td>4~8</td>\n",
       "      <td>1~3</td>\n",
       "      <td>1</td>\n",
       "      <td>1</td>\n",
       "      <td>0</td>\n",
       "      <td>0</td>\n",
       "      <td>1</td>\n",
       "      <td>0</td>\n",
       "    </tr>\n",
       "  </tbody>\n",
       "</table>\n",
       "<p>5 rows × 26 columns</p>\n",
       "</div>"
      ]
     },
     "execution_count": 4,
     "metadata": {},
     "output_type": "execute_result"
    }
   ],
   "execution_count": 4
  },
  {
   "cell_type": "markdown",
   "metadata": {
    "id": "GcDs78ZH_qRH"
   },
   "source": [
    "2. Investigate the dataset for missing or problematic data."
   ]
  },
  {
   "cell_type": "code",
   "metadata": {
    "id": "6CwL6oWj_qRH",
    "ExecuteTime": {
     "end_time": "2025-09-20T01:29:48.680454Z",
     "start_time": "2025-09-20T01:29:48.674176Z"
    }
   },
   "source": "# Dataset Overview\nprint(\"Dataset shape:\", data.shape)\nprint(\"Columns:\", list(data.columns))",
   "outputs": [
    {
     "name": "stdout",
     "output_type": "stream",
     "text": [
      "Dataset shape: (12684, 26)\n",
      "Columns: ['destination', 'passanger', 'weather', 'temperature', 'time', 'coupon', 'expiration', 'gender', 'age', 'maritalStatus', 'has_children', 'education', 'occupation', 'income', 'car', 'Bar', 'CoffeeHouse', 'CarryAway', 'RestaurantLessThan20', 'Restaurant20To50', 'toCoupon_GEQ5min', 'toCoupon_GEQ15min', 'toCoupon_GEQ25min', 'direction_same', 'direction_opp', 'Y']\n"
     ]
    }
   ],
   "execution_count": 6
  },
  {
   "cell_type": "code",
   "source": [
    "# Check for specific data quality issues\n",
    "print(\"Potential data quality issues:\")\n",
    "print(\"=\"*40)\n",
    "\n",
    "issues = []\n"
   ],
   "metadata": {
    "ExecuteTime": {
     "end_time": "2025-09-20T01:41:33.771363Z",
     "start_time": "2025-09-20T01:41:33.768022Z"
    }
   },
   "outputs": [
    {
     "name": "stdout",
     "output_type": "stream",
     "text": [
      "Potential data quality issues:\n",
      "========================================\n"
     ]
    }
   ],
   "execution_count": 14
  },
  {
   "metadata": {
    "ExecuteTime": {
     "end_time": "2025-09-20T01:41:37.054976Z",
     "start_time": "2025-09-20T01:41:37.034304Z"
    }
   },
   "cell_type": "code",
   "source": "# Decide what to do about missing data\nprint(\"Missing data analysis and decisions:\")\nprint(\"=\"*50)\n\n# First, let's see the missing data again\nmissing_data = data.isnull().sum()\nmissing_percentage = (missing_data / len(data)) * 100\nmissing_df = pd.DataFrame({\n    'Missing Count': missing_data,\n    'Percentage': missing_percentage\n})\nmissing_df = missing_df[missing_df['Missing Count'] > 0].sort_values('Missing Count', ascending=False)\n\nif not missing_df.empty:\n    print(\"Columns with missing data:\")\n    print(missing_df)\n    \n    print(\"\\nDecision strategy:\")\n    for col in missing_df.index:\n        missing_pct = missing_df.loc[col, 'Percentage']\n        missing_count = missing_df.loc[col, 'Missing Count']\n        \n        print(f\"\\n{col}:\")\n        print(f\"  Missing: {missing_count} ({missing_pct:.1f}%)\")\n        \n        if missing_pct > 70:\n            print(f\"  Decision: DROP column - too much missing data (>{missing_pct:.1f}%)\")\n        elif missing_pct > 30:\n            print(f\"  Decision: INVESTIGATE further - significant missing data\")\n            print(f\"  Options: Drop column, impute with mode/median, or create 'Unknown' category\")\n        elif missing_pct > 5:\n            print(f\"  Decision: IMPUTE - manageable missing data\")\n            if data[col].dtype == 'object':\n                print(f\"  Method: Fill with mode or create 'Unknown' category\")\n            else:\n                print(f\"  Method: Fill with median or mean\")\n        else:\n            print(f\"  Decision: DROP rows - very few missing values (<5%)\")\n    \n    # Create cleaned dataset (keeping original data unchanged)\n    print(\"\\nImplementing cleaning strategy:\")\n    data_cleaned = data.copy()\n    \n    for col in missing_df.index:\n        missing_pct = missing_df.loc[col, 'Percentage']\n        \n        if missing_pct > 70:\n            print(f\"Dropping column: {col}\")\n            data_cleaned = data_cleaned.drop(columns=[col])\n        elif missing_pct <= 5:\n            print(f\"Dropping rows with missing {col}\")\n            data_cleaned = data_cleaned.dropna(subset=[col])\n        else:\n            if data[col].dtype == 'object':\n                mode_value = data[col].mode().iloc[0] if not data[col].mode().empty else 'Unknown'\n                print(f\"Filling {col} with mode: '{mode_value}'\")\n                data_cleaned[col] = data_cleaned[col].fillna(mode_value)\n            else:\n                median_value = data[col].median()\n                print(f\"Filling {col} with median: {median_value}\")\n                data_cleaned[col] = data_cleaned[col].fillna(median_value)\n    \n    print(f\"\\nOriginal dataset shape: {data.shape}\")\n    print(f\"Cleaned dataset shape: {data_cleaned.shape}\")\n    print(f\"Rows removed: {data.shape[0] - data_cleaned.shape[0]}\")\n    print(f\"Columns removed: {data.shape[1] - data_cleaned.shape[1]}\")\n    \n    # Verify no missing data remains\n    remaining_missing = data_cleaned.isnull().sum().sum()\n    print(f\"Remaining missing values: {remaining_missing}\")\n    \nelse:\n    print(\"No missing data found in the dataset!\")\n    data_cleaned = data.copy()",
   "outputs": [],
   "execution_count": null
  },
  {
   "metadata": {
    "ExecuteTime": {
     "end_time": "2025-09-20T01:43:55.182682Z",
     "start_time": "2025-09-20T01:43:55.123313Z"
    }
   },
   "cell_type": "code",
   "source": [
    "# Check for unusual patterns in categorical data\n",
    "categorical_cols = data.select_dtypes(include=['object']).columns\n",
    "for col in categorical_cols:\n",
    "    unique_vals = data[col].dropna().astype(str).unique()\n",
    "    # Check for potential case/spacing inconsistencies\n",
    "    cleaned_vals = [val.strip().lower() for val in unique_vals]\n",
    "    if len(set(cleaned_vals)) != len(unique_vals):\n",
    "        issues.append(f\"Column '{col}' may have case/spacing inconsistencies\")\n",
    "\n",
    "if issues:\n",
    "    for i, issue in enumerate(issues, 1):\n",
    "        print(f\"{i}. {issue}\")\n",
    "else:\n",
    "    print(\"No major data quality issues detected.\")"
   ],
   "outputs": [
    {
     "name": "stdout",
     "output_type": "stream",
     "text": [
      "1. Columns with >1% missing values: ['car', 'CoffeeHouse', 'Restaurant20To50', 'CarryAway', 'RestaurantLessThan20']\n"
     ]
    }
   ],
   "execution_count": 16
  },
  {
   "cell_type": "code",
   "source": "# Analyze categorical columns\ncategorical_cols = data.select_dtypes(include=['object']).columns\nprint(\"Categorical columns analysis:\")\nprint(\"=\"*40)\n\nfor col in categorical_cols:\n    print(f\"\\n{col}:\")\n    print(f\"  Unique values: {data[col].nunique()}\")\n    print(f\"  Missing values: {data[col].isnull().sum()}\")\n    if data[col].nunique() <= 15:  # Show value counts for columns with reasonable number of unique values\n        print(f\"  Value counts:\")\n        print(data[col].value_counts())",
   "metadata": {
    "ExecuteTime": {
     "end_time": "2025-09-20T01:46:27.129852Z",
     "start_time": "2025-09-20T01:46:27.040409Z"
    }
   },
   "outputs": [
    {
     "name": "stdout",
     "output_type": "stream",
     "text": [
      "Categorical columns analysis:\n",
      "========================================\n",
      "\n",
      "destination:\n",
      "  Unique values: 3\n",
      "  Missing values: 0\n",
      "  Value counts:\n",
      "destination\n",
      "No Urgent Place    6283\n",
      "Home               3237\n",
      "Work               3164\n",
      "Name: count, dtype: int64\n",
      "\n",
      "passanger:\n",
      "  Unique values: 4\n",
      "  Missing values: 0\n",
      "  Value counts:\n",
      "passanger\n",
      "Alone        7305\n",
      "Friend(s)    3298\n",
      "Partner      1075\n",
      "Kid(s)       1006\n",
      "Name: count, dtype: int64\n",
      "\n",
      "weather:\n",
      "  Unique values: 3\n",
      "  Missing values: 0\n",
      "  Value counts:\n",
      "weather\n",
      "Sunny    10069\n",
      "Snowy     1405\n",
      "Rainy     1210\n",
      "Name: count, dtype: int64\n",
      "\n",
      "time:\n",
      "  Unique values: 5\n",
      "  Missing values: 0\n",
      "  Value counts:\n",
      "time\n",
      "6PM     3230\n",
      "7AM     3164\n",
      "10AM    2275\n",
      "2PM     2009\n",
      "10PM    2006\n",
      "Name: count, dtype: int64\n",
      "\n",
      "coupon:\n",
      "  Unique values: 5\n",
      "  Missing values: 0\n",
      "  Value counts:\n",
      "coupon\n",
      "Coffee House             3996\n",
      "Restaurant(<20)          2786\n",
      "Carry out & Take away    2393\n",
      "Bar                      2017\n",
      "Restaurant(20-50)        1492\n",
      "Name: count, dtype: int64\n",
      "\n",
      "expiration:\n",
      "  Unique values: 2\n",
      "  Missing values: 0\n",
      "  Value counts:\n",
      "expiration\n",
      "1d    7091\n",
      "2h    5593\n",
      "Name: count, dtype: int64\n",
      "\n",
      "gender:\n",
      "  Unique values: 2\n",
      "  Missing values: 0\n",
      "  Value counts:\n",
      "gender\n",
      "Female    6511\n",
      "Male      6173\n",
      "Name: count, dtype: int64\n",
      "\n",
      "age:\n",
      "  Unique values: 8\n",
      "  Missing values: 0\n",
      "  Value counts:\n",
      "age\n",
      "21         2653\n",
      "26         2559\n",
      "31         2039\n",
      "50plus     1788\n",
      "36         1319\n",
      "41         1093\n",
      "46          686\n",
      "below21     547\n",
      "Name: count, dtype: int64\n",
      "\n",
      "maritalStatus:\n",
      "  Unique values: 5\n",
      "  Missing values: 0\n",
      "  Value counts:\n",
      "maritalStatus\n",
      "Married partner      5100\n",
      "Single               4752\n",
      "Unmarried partner    2186\n",
      "Divorced              516\n",
      "Widowed               130\n",
      "Name: count, dtype: int64\n",
      "\n",
      "education:\n",
      "  Unique values: 6\n",
      "  Missing values: 0\n",
      "  Value counts:\n",
      "education\n",
      "Some college - no degree                  4351\n",
      "Bachelors degree                          4335\n",
      "Graduate degree (Masters or Doctorate)    1852\n",
      "Associates degree                         1153\n",
      "High School Graduate                       905\n",
      "Some High School                            88\n",
      "Name: count, dtype: int64\n",
      "\n",
      "occupation:\n",
      "  Unique values: 25\n",
      "  Missing values: 0\n",
      "\n",
      "income:\n",
      "  Unique values: 9\n",
      "  Missing values: 0\n",
      "  Value counts:\n",
      "income\n",
      "$25000 - $37499     2013\n",
      "$12500 - $24999     1831\n",
      "$37500 - $49999     1805\n",
      "$100000 or More     1736\n",
      "$50000 - $62499     1659\n",
      "Less than $12500    1042\n",
      "$87500 - $99999      895\n",
      "$75000 - $87499      857\n",
      "$62500 - $74999      846\n",
      "Name: count, dtype: int64\n",
      "\n",
      "car:\n",
      "  Unique values: 5\n",
      "  Missing values: 12576\n",
      "  Value counts:\n",
      "car\n",
      "Scooter and motorcycle                      22\n",
      "Mazda5                                      22\n",
      "do not drive                                22\n",
      "crossover                                   21\n",
      "Car that is too old to install Onstar :D    21\n",
      "Name: count, dtype: int64\n",
      "\n",
      "Bar:\n",
      "  Unique values: 5\n",
      "  Missing values: 107\n",
      "  Value counts:\n",
      "Bar\n",
      "never    5197\n",
      "less1    3482\n",
      "1~3      2473\n",
      "4~8      1076\n",
      "gt8       349\n",
      "Name: count, dtype: int64\n",
      "\n",
      "CoffeeHouse:\n",
      "  Unique values: 5\n",
      "  Missing values: 217\n",
      "  Value counts:\n",
      "CoffeeHouse\n",
      "less1    3385\n",
      "1~3      3225\n",
      "never    2962\n",
      "4~8      1784\n",
      "gt8      1111\n",
      "Name: count, dtype: int64\n",
      "\n",
      "CarryAway:\n",
      "  Unique values: 5\n",
      "  Missing values: 151\n",
      "  Value counts:\n",
      "CarryAway\n",
      "1~3      4672\n",
      "4~8      4258\n",
      "less1    1856\n",
      "gt8      1594\n",
      "never     153\n",
      "Name: count, dtype: int64\n",
      "\n",
      "RestaurantLessThan20:\n",
      "  Unique values: 5\n",
      "  Missing values: 130\n",
      "  Value counts:\n",
      "RestaurantLessThan20\n",
      "1~3      5376\n",
      "4~8      3580\n",
      "less1    2093\n",
      "gt8      1285\n",
      "never     220\n",
      "Name: count, dtype: int64\n",
      "\n",
      "Restaurant20To50:\n",
      "  Unique values: 5\n",
      "  Missing values: 189\n",
      "  Value counts:\n",
      "Restaurant20To50\n",
      "less1    6077\n",
      "1~3      3290\n",
      "never    2136\n",
      "4~8       728\n",
      "gt8       264\n",
      "Name: count, dtype: int64\n"
     ]
    }
   ],
   "execution_count": 18
  },
  {
   "cell_type": "code",
   "source": "# Check for duplicate rows\nduplicates = data.duplicated().sum()\nprint(f\"Duplicate rows: {duplicates}\")\nif duplicates > 0:\n    print(f\"Percentage of duplicates: {(duplicates/len(data)*100):.2f}%\")",
   "metadata": {
    "ExecuteTime": {
     "end_time": "2025-09-20T01:48:15.379092Z",
     "start_time": "2025-09-20T01:48:15.333519Z"
    }
   },
   "outputs": [
    {
     "name": "stdout",
     "output_type": "stream",
     "text": [
      "Duplicate rows: 74\n",
      "Percentage of duplicates: 0.58%\n"
     ]
    }
   ],
   "execution_count": 19
  },
  {
   "cell_type": "code",
   "source": "# Data types analysis\nprint(\"Data types:\")\nprint(data.dtypes)\nprint(f\"\\nTotal columns: {len(data.columns)}\")\nprint(f\"Object (categorical) columns: {len(data.select_dtypes(include=['object']).columns)}\")\nprint(f\"Numerical columns: {len(data.select_dtypes(include=['int64', 'float64']).columns)}\")",
   "metadata": {
    "ExecuteTime": {
     "end_time": "2025-09-20T01:48:36.794720Z",
     "start_time": "2025-09-20T01:48:36.781773Z"
    }
   },
   "outputs": [
    {
     "name": "stdout",
     "output_type": "stream",
     "text": [
      "Data types:\n",
      "destination             object\n",
      "passanger               object\n",
      "weather                 object\n",
      "temperature              int64\n",
      "time                    object\n",
      "coupon                  object\n",
      "expiration              object\n",
      "gender                  object\n",
      "age                     object\n",
      "maritalStatus           object\n",
      "has_children             int64\n",
      "education               object\n",
      "occupation              object\n",
      "income                  object\n",
      "car                     object\n",
      "Bar                     object\n",
      "CoffeeHouse             object\n",
      "CarryAway               object\n",
      "RestaurantLessThan20    object\n",
      "Restaurant20To50        object\n",
      "toCoupon_GEQ5min         int64\n",
      "toCoupon_GEQ15min        int64\n",
      "toCoupon_GEQ25min        int64\n",
      "direction_same           int64\n",
      "direction_opp            int64\n",
      "Y                        int64\n",
      "dtype: object\n",
      "\n",
      "Total columns: 26\n",
      "Object (categorical) columns: 18\n",
      "Numerical columns: 8\n"
     ]
    }
   ],
   "execution_count": 20
  },
  {
   "cell_type": "code",
   "source": "# Check for missing values\nprint(\"Missing values per column:\")\nmissing_data = data.isnull().sum()\nmissing_percentage = (missing_data / len(data)) * 100\nmissing_df = pd.DataFrame({\n    'Missing Count': missing_data,\n    'Percentage': missing_percentage\n})\nmissing_df = missing_df[missing_df['Missing Count'] > 0].sort_values('Missing Count', ascending=False)\nprint(missing_df)",
   "metadata": {
    "ExecuteTime": {
     "end_time": "2025-09-20T01:49:16.904991Z",
     "start_time": "2025-09-20T01:49:16.875112Z"
    }
   },
   "outputs": [
    {
     "name": "stdout",
     "output_type": "stream",
     "text": [
      "Missing values per column:\n",
      "                      Missing Count  Percentage\n",
      "car                           12576   99.148534\n",
      "CoffeeHouse                     217    1.710817\n",
      "Restaurant20To50                189    1.490066\n",
      "CarryAway                       151    1.190476\n",
      "RestaurantLessThan20            130    1.024913\n",
      "Bar                             107    0.843582\n"
     ]
    }
   ],
   "execution_count": 21
  },
  {
   "cell_type": "code",
   "metadata": {
    "ExecuteTime": {
     "end_time": "2025-09-20T01:54:29.847098Z",
     "start_time": "2025-09-20T01:54:29.833995Z"
    }
   },
   "source": [
    "print(\"Missing data analysis and decisions:\")\n",
    "print(\"=\"*50)\n"
   ],
   "outputs": [
    {
     "name": "stdout",
     "output_type": "stream",
     "text": [
      "Missing data analysis and decisions:\n",
      "==================================================\n"
     ]
    }
   ],
   "execution_count": 22
  },
  {
   "metadata": {
    "id": "tyvoAC5F_qRI",
    "ExecuteTime": {
     "end_time": "2025-09-20T01:59:47.817192Z",
     "start_time": "2025-09-20T01:59:47.738570Z"
    }
   },
   "cell_type": "code",
   "source": [
    "# First, let's see the missing data again\n",
    "missing_data = data.isnull().sum()\n",
    "missing_percentage = (missing_data / len(data)) * 100\n",
    "missing_df = pd.DataFrame({\n",
    "    'Missing Count': missing_data,\n",
    "    'Percentage': missing_percentage\n",
    "})\n",
    "missing_df = missing_df[missing_df['Missing Count'] > 0].sort_values('Missing Count', ascending=False)\n",
    "\n",
    "if not missing_df.empty:\n",
    "    print(\"Columns with missing data:\")\n",
    "    print(missing_df)\n",
    "\n",
    "    print(\"\\nDecision strategy:\")\n",
    "    for col in missing_df.index:\n",
    "        missing_pct = missing_df.loc[col, 'Percentage']\n",
    "        missing_count = missing_df.loc[col, 'Missing Count']\n",
    "\n",
    "        print(f\"\\n{col}:\")\n",
    "        print(f\"  Missing: {missing_count} ({missing_pct:.1f}%)\")\n",
    "\n",
    "        if missing_pct > 70:\n",
    "            print(f\"  Decision: DROP column - too much missing data (>{missing_pct:.1f}%)\")\n",
    "        elif missing_pct > 30:\n",
    "            print(f\"  Decision: INVESTIGATE further - significant missing data\")\n",
    "            print(f\"  Options: Drop column, impute with mode/median, or create 'Unknown' category\")\n",
    "        elif missing_pct > 5:\n",
    "            print(f\"  Decision: IMPUTE - manageable missing data\")\n",
    "            if data[col].dtype == 'object':\n",
    "                print(f\"  Method: Fill with mode or create 'Unknown' category\")\n",
    "            else:\n",
    "                print(f\"  Method: Fill with median or mean\")\n",
    "        else:\n",
    "            print(f\"  Decision: DROP rows - very few missing values (<5%)\")\n",
    "\n",
    "    # Create cleaned dataset (keeping original data unchanged)\n",
    "    print(\"\\nImplementing cleaning strategy:\")\n",
    "    data_cleaned = data.copy()\n",
    "\n",
    "    for col in missing_df.index:\n",
    "        missing_pct = missing_df.loc[col, 'Percentage']\n",
    "\n",
    "        if missing_pct > 70:\n",
    "            print(f\"Dropping column: {col}\")\n",
    "            data_cleaned = data_cleaned.drop(columns=[col])\n",
    "        elif missing_pct <= 5:\n",
    "            print(f\"Dropping rows with missing {col}\")\n",
    "            data_cleaned = data_cleaned.dropna(subset=[col])\n",
    "        else:\n",
    "            if data[col].dtype == 'object':\n",
    "                mode_value = data[col].mode().iloc[0] if not data[col].mode().empty else 'Unknown'\n",
    "                print(f\"Filling {col} with mode: '{mode_value}'\")\n",
    "                data_cleaned[col] = data_cleaned[col].fillna(mode_value)\n",
    "            else:\n",
    "                median_value = data[col].median()\n",
    "                print(f\"Filling {col} with median: {median_value}\")\n",
    "                data_cleaned[col] = data_cleaned[col].fillna(median_value)\n",
    "\n",
    "    print(f\"\\nOriginal dataset shape: {data.shape}\")\n",
    "    print(f\"Cleaned dataset shape: {data_cleaned.shape}\")\n",
    "    print(f\"Rows removed: {data.shape[0] - data_cleaned.shape[0]}\")\n",
    "    print(f\"Columns removed: {data.shape[1] - data_cleaned.shape[1]}\")\n",
    "\n",
    "    # Verify no missing data remains\n",
    "    remaining_missing = data_cleaned.isnull().sum().sum()\n",
    "    print(f\"Remaining missing values: {remaining_missing}\")\n",
    "\n",
    "else:\n",
    "    print(\"No missing data found in the dataset!\")\n",
    "    data_cleaned = data.copy()\n"
   ],
   "outputs": [
    {
     "name": "stdout",
     "output_type": "stream",
     "text": [
      "Columns with missing data:\n",
      "                      Missing Count  Percentage\n",
      "car                           12576   99.148534\n",
      "CoffeeHouse                     217    1.710817\n",
      "Restaurant20To50                189    1.490066\n",
      "CarryAway                       151    1.190476\n",
      "RestaurantLessThan20            130    1.024913\n",
      "Bar                             107    0.843582\n",
      "\n",
      "Decision strategy:\n",
      "\n",
      "car:\n",
      "  Missing: 12576 (99.1%)\n",
      "  Decision: DROP column - too much missing data (>99.1%)\n",
      "\n",
      "CoffeeHouse:\n",
      "  Missing: 217 (1.7%)\n",
      "  Decision: DROP rows - very few missing values (<5%)\n",
      "\n",
      "Restaurant20To50:\n",
      "  Missing: 189 (1.5%)\n",
      "  Decision: DROP rows - very few missing values (<5%)\n",
      "\n",
      "CarryAway:\n",
      "  Missing: 151 (1.2%)\n",
      "  Decision: DROP rows - very few missing values (<5%)\n",
      "\n",
      "RestaurantLessThan20:\n",
      "  Missing: 130 (1.0%)\n",
      "  Decision: DROP rows - very few missing values (<5%)\n",
      "\n",
      "Bar:\n",
      "  Missing: 107 (0.8%)\n",
      "  Decision: DROP rows - very few missing values (<5%)\n",
      "\n",
      "Implementing cleaning strategy:\n",
      "Dropping column: car\n",
      "Dropping rows with missing CoffeeHouse\n",
      "Dropping rows with missing Restaurant20To50\n",
      "Dropping rows with missing CarryAway\n",
      "Dropping rows with missing RestaurantLessThan20\n",
      "Dropping rows with missing Bar\n",
      "\n",
      "Original dataset shape: (12684, 26)\n",
      "Cleaned dataset shape: (12079, 25)\n",
      "Rows removed: 605\n",
      "Columns removed: 1\n",
      "Remaining missing values: 0\n"
     ]
    }
   ],
   "execution_count": 23
  },
  {
   "cell_type": "markdown",
   "metadata": {
    "id": "YE6oJbXd_qRI"
   },
   "source": [
    "4. What proportion of the total observations chose to accept the coupon?\n",
    "\n"
   ]
  },
  {
   "cell_type": "code",
   "metadata": {
    "id": "86GGqBTv_qRI",
    "ExecuteTime": {
     "end_time": "2025-09-20T02:11:06.671595Z",
     "start_time": "2025-09-20T02:11:06.654526Z"
    }
   },
   "source": [
    "# What proportion of the total observations chose to accept the coupon?\n",
    "acceptance_rate = data['Y'].mean()\n",
    "total_accepted = data['Y'].sum()\n",
    "total_observations = len(data)\n",
    "\n",
    "print(f\"Total observations: {total_observations}\")\n",
    "print(f\"Coupons accepted: {total_accepted}\")\n",
    "print(f\"Coupons not accepted: {total_observations - total_accepted}\")\n",
    "print(f\"Acceptance rate: {acceptance_rate:.4f} ({acceptance_rate*100:.2f}%)\")\n"
   ],
   "outputs": [
    {
     "name": "stdout",
     "output_type": "stream",
     "text": [
      "Total observations: 12684\n",
      "Coupons accepted: 7210\n",
      "Coupons not accepted: 5474\n",
      "Acceptance rate: 0.5684 (56.84%)\n"
     ]
    }
   ],
   "execution_count": 24
  },
  {
   "cell_type": "markdown",
   "metadata": {
    "id": "vflz0DoE_qRI"
   },
   "source": [
    "5. Use a bar plot to visualize the `coupon` column."
   ]
  },
  {
   "cell_type": "code",
   "metadata": {
    "id": "dHFh3E45_qRI",
    "ExecuteTime": {
     "end_time": "2025-09-20T02:12:28.634350Z",
     "start_time": "2025-09-20T02:12:28.276408Z"
    }
   },
   "source": [
    "# Bar plot\n",
    "plt.figure(figsize=(6, 4))\n",
    "acceptance_counts = data['Y'].value_counts()\n",
    "acceptance_counts.plot(kind='bar', color=['#ff7f7f', '#7fbf7f'])\n",
    "plt.title('Coupon Acceptance Distribution')\n",
    "plt.xlabel('Coupon Accepted (0=No, 1=Yes)')\n",
    "plt.ylabel('Count')\n",
    "plt.xticks(rotation=0)\n",
    "plt.show()\n"
   ],
   "outputs": [
    {
     "data": {
      "text/plain": [
       "<Figure size 600x400 with 1 Axes>"
      ],
      "image/png": "[encoded data removed]"
     },
     "metadata": {},
     "output_type": "display_data"
    }
   ],
   "execution_count": 25
  },
  {
   "cell_type": "code",
   "metadata": {
    "id": "Yg9Anv71_qRI",
    "ExecuteTime": {
     "end_time": "2025-09-20T02:15:51.798822Z",
     "start_time": "2025-09-20T02:15:51.513223Z"
    }
   },
   "source": [
    "# Use a histogram to visualize the temperature column\n",
    "plt.figure(figsize=(8, 6))\n",
    "plt.hist(data['temperature'], bins=20, edgecolor='black', alpha=0.7)\n",
    "plt.title('Distribution of Temperature')\n",
    "plt.xlabel('Temperature (°F)')\n",
    "plt.ylabel('Frequency')\n",
    "plt.grid(True, alpha=0.3)\n",
    "plt.show()\n",
    "\n",
    "# Additional analysis\n",
    "print(\"Temperature statistics:\")\n",
    "print(data['temperature'].describe())\n",
    "print(f\"\\nUnique temperature values: {sorted(data['temperature'].unique())}\")"
   ],
   "outputs": [
    {
     "data": {
      "text/plain": [
       "<Figure size 800x600 with 1 Axes>"
      ],
      "image/png": "[encoded data removed]"
     },
     "metadata": {},
     "output_type": "display_data"
    },
    {
     "name": "stdout",
     "output_type": "stream",
     "text": [
      "Temperature statistics:\n",
      "count    12684.000000\n",
      "mean        63.301798\n",
      "std         19.154486\n",
      "min         30.000000\n",
      "25%         55.000000\n",
      "50%         80.000000\n",
      "75%         80.000000\n",
      "max         80.000000\n",
      "Name: temperature, dtype: float64\n",
      "\n",
      "Unique temperature values: [30, 55, 80]\n"
     ]
    }
   ],
   "execution_count": 26
  },
  {
   "metadata": {},
   "cell_type": "code",
   "outputs": [],
   "execution_count": null,
   "source": ""
  },
  {
   "cell_type": "code",
   "execution_count": null,
   "metadata": {
    "id": "zLtOaJQk_qRI"
   },
   "outputs": [],
   "source": []
  },
  {
   "cell_type": "code",
   "execution_count": null,
   "metadata": {
    "id": "7GBHZKBp_qRJ"
   },
   "outputs": [],
   "source": []
  },
  {
   "cell_type": "code",
   "metadata": {
    "id": "Y5nBUA-j_qRJ",
    "ExecuteTime": {
     "end_time": "2025-09-20T03:36:11.528335Z",
     "start_time": "2025-09-20T03:36:11.513417Z"
    }
   },
   "source": "# Compare the acceptance rate between those who went to a bar 3 or fewer times a month to those who went more\nprint(\"Bar frequency values in dataset:\")\nprint(bar_coupons['Bar'].value_counts())\n\n# Create groups: 3 or fewer vs more than 3\nbar_3_or_fewer = bar_coupons[bar_coupons['Bar'].isin(['never', 'less1', '1~3'])]\nbar_more_than_3 = bar_coupons[bar_coupons['Bar'].isin(['4~8', 'gt8'])]\n\n# Calculate acceptance rates\nacceptance_3_or_fewer = bar_3_or_fewer['Y'].mean()\nacceptance_more_than_3 = bar_more_than_3['Y'].mean()\n\nprint(f\"\\nBar 3 or fewer times a month:\")\nprint(f\"  Count: {len(bar_3_or_fewer)}\")\nprint(f\"  Acceptance rate: {acceptance_3_or_fewer:.4f} ({acceptance_3_or_fewer*100:.2f}%)\")\n\nprint(f\"\\nBar more than 3 times a month:\")\nprint(f\"  Count: {len(bar_more_than_3)}\")\nprint(f\"  Acceptance rate: {acceptance_more_than_3:.4f} ({acceptance_more_than_3*100:.2f}%)\")\n\nprint(f\"\\nDifference: {acceptance_more_than_3 - acceptance_3_or_fewer:.4f}\")\nprint(f\"Ratio: {acceptance_more_than_3 / acceptance_3_or_fewer:.2f}x higher\")",
   "outputs": [
    {
     "name": "stdout",
     "output_type": "stream",
     "text": [
      "Bar frequency values in dataset:\n",
      "Bar\n",
      "never    830\n",
      "less1    570\n",
      "1~3      397\n",
      "4~8      150\n",
      "gt8       49\n",
      "Name: count, dtype: int64\n",
      "\n",
      "Bar 3 or fewer times a month:\n",
      "  Count: 1797\n",
      "  Acceptance rate: 0.3706 (37.06%)\n",
      "\n",
      "Bar more than 3 times a month:\n",
      "  Count: 199\n",
      "  Acceptance rate: 0.7688 (76.88%)\n",
      "\n",
      "Difference: 0.3982\n",
      "Ratio: 2.07x higher\n"
     ]
    }
   ],
   "execution_count": 39
  },
  {
   "cell_type": "code",
   "execution_count": null,
   "metadata": {
    "id": "ShcUC-Vm_qRJ"
   },
   "outputs": [],
   "source": []
  },
  {
   "cell_type": "markdown",
   "metadata": {
    "id": "FupfgeJk_qRJ"
   },
   "source": [
    "**Investigating the Bar Coupons**\n",
    "\n",
    "Now, we will lead you through an exploration of just the bar related coupons.  \n",
    "\n",
    "1. Create a new `DataFrame` that contains just the bar coupons.\n"
   ]
  },
  {
   "cell_type": "code",
   "metadata": {
    "id": "tMBlWuGq_qRJ",
    "ExecuteTime": {
     "end_time": "2025-09-20T02:21:51.004416Z",
     "start_time": "2025-09-20T02:21:50.978179Z"
    }
   },
   "source": [
    "# Create a new DataFrame that contains just the bar coupons\n",
    "bar_coupons = data[data['coupon'] == 'Bar']\n",
    "\n",
    "print(f\"Total observations: {len(data)}\")\n",
    "print(f\"Bar coupon observations: {len(bar_coupons)}\")\n",
    "print(f\"Percentage of bar coupons: {len(bar_coupons)/len(data)*100:.2f}%\")\n",
    "\n",
    "# Display first few rows\n",
    "print(\"\\nFirst 5 bar coupon observations:\")\n",
    "print(bar_coupons.head())\n",
    "\n"
   ],
   "outputs": [
    {
     "name": "stdout",
     "output_type": "stream",
     "text": [
      "Total observations: 12684\n",
      "Bar coupon observations: 2017\n",
      "Percentage of bar coupons: 15.90%\n",
      "\n",
      "First 5 bar coupon observations:\n",
      "        destination  passanger weather  temperature  time coupon expiration  \\\n",
      "9   No Urgent Place     Kid(s)   Sunny           80  10AM    Bar         1d   \n",
      "13             Home      Alone   Sunny           55   6PM    Bar         1d   \n",
      "17             Work      Alone   Sunny           55   7AM    Bar         1d   \n",
      "24  No Urgent Place  Friend(s)   Sunny           80  10AM    Bar         1d   \n",
      "35             Home      Alone   Sunny           55   6PM    Bar         1d   \n",
      "\n",
      "    gender age      maritalStatus  ...  CoffeeHouse CarryAway  \\\n",
      "9   Female  21  Unmarried partner  ...        never       NaN   \n",
      "13  Female  21  Unmarried partner  ...        never       NaN   \n",
      "17  Female  21  Unmarried partner  ...        never       NaN   \n",
      "24    Male  21             Single  ...        less1       4~8   \n",
      "35    Male  21             Single  ...        less1       4~8   \n",
      "\n",
      "   RestaurantLessThan20 Restaurant20To50 toCoupon_GEQ5min toCoupon_GEQ15min  \\\n",
      "9                   4~8              1~3                1                 1   \n",
      "13                  4~8              1~3                1                 0   \n",
      "17                  4~8              1~3                1                 1   \n",
      "24                  4~8            less1                1                 0   \n",
      "35                  4~8            less1                1                 0   \n",
      "\n",
      "   toCoupon_GEQ25min direction_same direction_opp  Y  \n",
      "9                  0              0             1  0  \n",
      "13                 0              1             0  1  \n",
      "17                 1              0             1  0  \n",
      "24                 0              0             1  1  \n",
      "35                 0              1             0  1  \n",
      "\n",
      "[5 rows x 26 columns]\n"
     ]
    }
   ],
   "execution_count": 28
  },
  {
   "cell_type": "code",
   "metadata": {
    "id": "hSdte8Mi_qRK",
    "ExecuteTime": {
     "end_time": "2025-09-20T02:23:33.239315Z",
     "start_time": "2025-09-20T02:23:33.230274Z"
    }
   },
   "source": [
    "acceptance_rate = bar_coupons['Y'].mean()\n",
    "total_accepted = bar_coupons['Y'].sum()\n",
    "total_observations = len(bar_coupons)\n",
    "\n",
    "print(f\"Total observations: {total_observations}\")\n",
    "print(f\"Coupons accepted: {total_accepted}\")\n",
    "print(f\"Coupons not accepted: {total_observations - total_accepted}\")\n",
    "print(f\"Acceptance rate: {acceptance_rate:.4f} ({acceptance_rate*100:.2f}%)\")"
   ],
   "outputs": [
    {
     "name": "stdout",
     "output_type": "stream",
     "text": [
      "Total observations: 2017\n",
      "Coupons accepted: 827\n",
      "Coupons not accepted: 1190\n",
      "Acceptance rate: 0.4100 (41.00%)\n"
     ]
    }
   ],
   "execution_count": 29
  },
  {
   "cell_type": "markdown",
   "metadata": {
    "id": "85nA_iEi_qRK"
   },
   "source": [
    "3. Compare the acceptance rate between those who went to a bar 3 or fewer times a month to those who went more.\n"
   ]
  },
  {
   "cell_type": "code",
   "metadata": {
    "id": "LBOrN-XM_qRK",
    "ExecuteTime": {
     "end_time": "2025-09-20T03:36:56.609356Z",
     "start_time": "2025-09-20T03:36:56.602196Z"
    }
   },
   "source": [
    "print(\"Bar frequency values in dataset:\")\n",
    "print(bar_coupons['Bar'].value_counts())\n",
    "\n",
    "# Create groups: 3 or fewer vs more than 3\n",
    "bar_3_or_fewer = bar_coupons[bar_coupons['Bar'].isin(['never', 'less1', '1~3'])]\n",
    "bar_more_than_3 = bar_coupons[bar_coupons['Bar'].isin(['4~8', 'gt8'])]\n",
    "\n",
    "# Calculate acceptance rates\n",
    "acceptance_3_or_fewer = bar_3_or_fewer['Y'].mean()\n",
    "acceptance_more_than_3 = bar_more_than_3['Y'].mean()\n",
    "\n",
    "print(f\"\\nBar 3 or fewer times a month:\")\n",
    "print(f\"  Count: {len(bar_3_or_fewer)}\")\n",
    "print(f\"  Acceptance rate: {acceptance_3_or_fewer:.4f} ({acceptance_3_or_fewer*100:.2f}%)\")\n",
    "\n",
    "print(f\"\\nBar more than 3 times a month:\")\n",
    "print(f\"  Count: {len(bar_more_than_3)}\")\n",
    "print(f\"  Acceptance rate: {acceptance_more_than_3:.4f} ({acceptance_more_than_3*100:.2f}%)\")\n",
    "\n",
    "print(f\"\\nDifference: {acceptance_more_than_3 - acceptance_3_or_fewer:.4f}\")\n",
    "print(f\"Ratio: {acceptance_more_than_3 / acceptance_3_or_fewer:.2f}x higher\")"
   ],
   "outputs": [
    {
     "name": "stdout",
     "output_type": "stream",
     "text": [
      "Bar frequency values in dataset:\n",
      "Bar\n",
      "never    830\n",
      "less1    570\n",
      "1~3      397\n",
      "4~8      150\n",
      "gt8       49\n",
      "Name: count, dtype: int64\n",
      "\n",
      "Bar 3 or fewer times a month:\n",
      "  Count: 1797\n",
      "  Acceptance rate: 0.3706 (37.06%)\n",
      "\n",
      "Bar more than 3 times a month:\n",
      "  Count: 199\n",
      "  Acceptance rate: 0.7688 (76.88%)\n",
      "\n",
      "Difference: 0.3982\n",
      "Ratio: 2.07x higher\n"
     ]
    }
   ],
   "execution_count": 40
  },
  {
   "cell_type": "markdown",
   "metadata": {
    "id": "RBgcQwH4_qRK"
   },
   "source": [
    "4. Compare the acceptance rate between drivers who go to a bar more than once a month and are over the age of 25 to the all others.  Is there a difference?\n"
   ]
  },
  {
   "cell_type": "code",
   "metadata": {
    "id": "bf28bbeX_qRK",
    "ExecuteTime": {
     "end_time": "2025-09-20T03:37:16.422064Z",
     "start_time": "2025-09-20T03:37:16.405557Z"
    }
   },
   "source": [
    "print(\"Unique age values:\")\n",
    "print(bar_coupons['age'].value_counts())\n",
    "condition2 = (\n",
    "        (bar_coupons['Bar'].isin(['1~3', '4~8', 'gt8'])) &  # More than once a month\n",
    "        (~bar_coupons['age'].isin(['below21', '21']))  # Under 30 (assuming 26 means 26-30)\n",
    ")\n",
    "specific_group = bar_coupons[condition2]\n",
    "other_group = bar_coupons[~bar_coupons.index.isin(specific_group.index)]\n",
    "# Calculate acceptance rates\n",
    "specific_acceptance = specific_group['Y'].mean()\n",
    "other_acceptance = other_group['Y'].mean()\n",
    "\n",
    "print(f\"\\nSpecific group (go to a bar more than once a month and are over the age of 25):\")\n",
    "print(f\"  Count: {len(specific_group)}\")\n",
    "print(f\"  Acceptance rate: {specific_acceptance:.4f} ({specific_acceptance*100:.2f}%)\")\n",
    "\n",
    "print(f\"\\nAll other bar coupon recipients:\")\n",
    "print(f\"  Count: {len(other_group)}\")\n",
    "print(f\"  Acceptance rate: {other_acceptance:.4f} ({other_acceptance*100:.2f}%)\")\n"
   ],
   "outputs": [
    {
     "name": "stdout",
     "output_type": "stream",
     "text": [
      "Unique age values:\n",
      "age\n",
      "21         417\n",
      "26         395\n",
      "31         339\n",
      "50plus     283\n",
      "36         209\n",
      "41         178\n",
      "46         109\n",
      "below21     87\n",
      "Name: count, dtype: int64\n",
      "\n",
      "Specific group (go to a bar more than once a month and are over the age of 25):\n",
      "  Count: 420\n",
      "  Acceptance rate: 0.6952 (69.52%)\n",
      "\n",
      "All other bar coupon recipients:\n",
      "  Count: 1597\n",
      "  Acceptance rate: 0.3350 (33.50%)\n"
     ]
    }
   ],
   "execution_count": 41
  },
  {
   "cell_type": "markdown",
   "metadata": {
    "id": "S4RKT4PJ_qRK"
   },
   "source": [
    "5. Use the same process to compare the acceptance rate between drivers who go to bars more than once a month and had passengers that were not a kid and had occupations other than farming, fishing, or forestry.\n"
   ]
  },
  {
   "cell_type": "code",
   "metadata": {
    "id": "sENaI2Tg_qRK",
    "ExecuteTime": {
     "end_time": "2025-09-20T03:08:20.203012Z",
     "start_time": "2025-09-20T03:08:20.192425Z"
    }
   },
   "source": [
    "# Compare acceptance rate between drivers who go to bars more than once a month and had passengers that were not a kid and had occupations other than farming, fishing, or forestry\n",
    "print(\"Unique passenger values:\")\n",
    "print(bar_coupons['passanger'].value_counts())\n",
    "print(\"\\nUnique occupation values:\")\n",
    "print(bar_coupons['occupation'].value_counts())\n",
    "\n",
    "# Define the specific group\n",
    "specific_group = bar_coupons[\n",
    "    (bar_coupons['Bar'].isin(['1~3', '4~8', 'gt8'])) &  # More than once a month\n",
    "    (bar_coupons['passanger'] != 'Kid(s)') &  # Passengers not kids\n",
    "    (~bar_coupons['occupation'].isin(['Farming Fishing & Forestry']))  # Not farming/fishing/forestry\n",
    "    ]\n",
    "\n",
    "# Define the comparison group (all others)\n",
    "other_group = bar_coupons[~bar_coupons.index.isin(specific_group.index)]\n",
    "\n",
    "# Calculate acceptance rates\n",
    "specific_acceptance = specific_group['Y'].mean()\n",
    "other_acceptance = other_group['Y'].mean()\n",
    "\n",
    "print(f\"\\nSpecific group (bar >1/month, no kids, not farming/fishing/forestry):\")\n",
    "print(f\"  Count: {len(specific_group)}\")\n",
    "print(f\"  Acceptance rate: {specific_acceptance:.4f} ({specific_acceptance*100:.2f}%)\")\n",
    "\n",
    "print(f\"\\nAll other bar coupon recipients:\")\n",
    "print(f\"  Count: {len(other_group)}\")\n",
    "print(f\"  Acceptance rate: {other_acceptance:.4f} ({other_acceptance*100:.2f}%)\")\n",
    "\n",
    "print(f\"\\nDifference: {specific_acceptance - other_acceptance:.4f}\")\n",
    "if other_acceptance > 0:\n",
    "    print(f\"Ratio: {specific_acceptance / other_acceptance:.2f}x\")"
   ],
   "outputs": [
    {
     "name": "stdout",
     "output_type": "stream",
     "text": [
      "Unique passenger values:\n",
      "passanger\n",
      "Alone        1200\n",
      "Friend(s)     337\n",
      "Partner       274\n",
      "Kid(s)        206\n",
      "Name: count, dtype: int64\n",
      "\n",
      "Unique occupation values:\n",
      "occupation\n",
      "Unemployed                                   301\n",
      "Student                                      251\n",
      "Computer & Mathematical                      232\n",
      "Sales & Related                              178\n",
      "Education&Training&Library                   140\n",
      "Management                                   119\n",
      "Office & Administrative Support              105\n",
      "Arts Design Entertainment Sports & Media     100\n",
      "Business & Financial                          89\n",
      "Retired                                       75\n",
      "Food Preparation & Serving Related            48\n",
      "Community & Social Services                   44\n",
      "Healthcare Support                            44\n",
      "Healthcare Practitioners & Technical          41\n",
      "Transportation & Material Moving              35\n",
      "Legal                                         34\n",
      "Architecture & Engineering                    27\n",
      "Personal Care & Service                       27\n",
      "Protective Service                            27\n",
      "Construction & Extraction                     24\n",
      "Life Physical Social Science                  24\n",
      "Installation Maintenance & Repair             18\n",
      "Production Occupations                        18\n",
      "Farming Fishing & Forestry                     9\n",
      "Building & Grounds Cleaning & Maintenance      7\n",
      "Name: count, dtype: int64\n",
      "\n",
      "Specific group (bar >1/month, no kids, not farming/fishing/forestry):\n",
      "  Count: 551\n",
      "  Acceptance rate: 0.7132 (71.32%)\n",
      "\n",
      "All other bar coupon recipients:\n",
      "  Count: 1466\n",
      "  Acceptance rate: 0.2960 (29.60%)\n",
      "\n",
      "Difference: 0.4172\n",
      "Ratio: 2.41x\n"
     ]
    }
   ],
   "execution_count": 32
  },
  {
   "cell_type": "markdown",
   "metadata": {
    "id": "n2LIUTil_qRK"
   },
   "source": [
    "6. Compare the acceptance rates between those drivers who:\n",
    "\n",
    "- go to bars more than once a month, had passengers that were not a kid, and were not widowed *OR*\n",
    "- go to bars more than once a month and are under the age of 30 *OR*\n",
    "- go to cheap restaurants more than 4 times a month and income is less than 50K.\n",
    "\n"
   ]
  },
  {
   "cell_type": "code",
   "metadata": {
    "id": "aK_wEzx7_qRK",
    "ExecuteTime": {
     "end_time": "2025-09-20T03:17:24.188589Z",
     "start_time": "2025-09-20T03:17:24.161841Z"
    }
   },
   "source": [
    "# Compare acceptance rates for the complex OR conditions\n",
    "print(\"Unique age values:\")\n",
    "print(bar_coupons['age'].value_counts())\n",
    "print(\"\\nUnique marital status values:\")\n",
    "print(bar_coupons['maritalStatus'].value_counts())\n",
    "print(\"\\nUnique income values:\")\n",
    "print(bar_coupons['income'].value_counts())\n",
    "print(\"\\nUnique RestaurantLessThan20 values:\")\n",
    "print(bar_coupons['RestaurantLessThan20'].value_counts())\n",
    "\n",
    "# Define the three conditions\n",
    "condition1 = (\n",
    "        (bar_coupons['Bar'].isin(['1~3', '4~8', 'gt8'])) &  # More than once a month\n",
    "        (bar_coupons['passanger'] != 'Kid(s)') &  # Not kids\n",
    "        (bar_coupons['maritalStatus'] != 'Widowed')  # Not widowed\n",
    ")\n",
    "\n",
    "condition2 = (\n",
    "        (bar_coupons['Bar'].isin(['1~3', '4~8', 'gt8'])) &  # More than once a month\n",
    "        (bar_coupons['age'].isin(['below21', '21', '26']))  # Under 30 (assuming 26 means 26-30)\n",
    ")\n",
    "\n",
    "condition3 = (\n",
    "        (bar_coupons['RestaurantLessThan20'].isin(['4~8', 'gt8'])) &  # More than 4 times a month\n",
    "        (bar_coupons['income'].isin(['Less than $12500', '$12500 - $24999', '$25000 - $37499']))  # Less than 50K\n",
    ")\n",
    "\n",
    "# Create the combined group (OR condition)\n",
    "target_group = bar_coupons[condition1 | condition2 | condition3]\n",
    "\n",
    "# Create comparison group (all others)\n",
    "other_group = bar_coupons[~bar_coupons.index.isin(target_group.index)]\n",
    "\n",
    "# Calculate acceptance rates\n",
    "target_acceptance = target_group['Y'].mean()\n",
    "other_acceptance = other_group['Y'].mean()\n",
    "\n",
    "print(f\"\\nCondition 1 count: {condition1.sum()}\")\n",
    "print(f\"Condition 2 count: {condition2.sum()}\")\n",
    "print(f\"Condition 3 count: {condition3.sum()}\")\n",
    "\n",
    "print(f\"\\nTarget group (meeting any of the 3 conditions):\")\n",
    "print(f\"  Count: {len(target_group)}\")\n",
    "print(f\"  Acceptance rate: {target_acceptance:.4f} ({target_acceptance*100:.2f}%)\")\n",
    "\n",
    "print(f\"\\nAll other bar coupon recipients:\")\n",
    "print(f\"  Count: {len(other_group)}\")\n",
    "print(f\"  Acceptance rate: {other_acceptance:.4f} ({other_acceptance*100:.2f}%)\")\n",
    "\n",
    "print(f\"\\nDifference: {target_acceptance - other_acceptance:.4f}\")\n",
    "if other_acceptance > 0:\n",
    "    print(f\"Ratio: {target_acceptance / other_acceptance:.2f}x\")"
   ],
   "outputs": [
    {
     "name": "stdout",
     "output_type": "stream",
     "text": [
      "Unique age values:\n",
      "age\n",
      "21         417\n",
      "26         395\n",
      "31         339\n",
      "50plus     283\n",
      "36         209\n",
      "41         178\n",
      "46         109\n",
      "below21     87\n",
      "Name: count, dtype: int64\n",
      "\n",
      "Unique marital status values:\n",
      "maritalStatus\n",
      "Married partner      882\n",
      "Single               661\n",
      "Unmarried partner    378\n",
      "Divorced              75\n",
      "Widowed               21\n",
      "Name: count, dtype: int64\n",
      "\n",
      "Unique income values:\n",
      "income\n",
      "$25000 - $37499     318\n",
      "$100000 or More     291\n",
      "$12500 - $24999     288\n",
      "$37500 - $49999     267\n",
      "$50000 - $62499     262\n",
      "Less than $12500    165\n",
      "$75000 - $87499     151\n",
      "$87500 - $99999     145\n",
      "$62500 - $74999     130\n",
      "Name: count, dtype: int64\n",
      "\n",
      "Unique RestaurantLessThan20 values:\n",
      "RestaurantLessThan20\n",
      "1~3      878\n",
      "4~8      568\n",
      "less1    325\n",
      "gt8      186\n",
      "never     37\n",
      "Name: count, dtype: int64\n",
      "\n",
      "Condition 1 count: 551\n",
      "Condition 2 count: 345\n",
      "Condition 3 count: 246\n",
      "\n",
      "Target group (meeting any of the 3 conditions):\n",
      "  Count: 714\n",
      "  Acceptance rate: 0.6148 (61.48%)\n",
      "\n",
      "All other bar coupon recipients:\n",
      "  Count: 1303\n",
      "  Acceptance rate: 0.2978 (29.78%)\n",
      "\n",
      "Difference: 0.3171\n",
      "Ratio: 2.06x\n"
     ]
    }
   ],
   "execution_count": 33
  },
  {
   "cell_type": "markdown",
   "metadata": {
    "id": "v3fL3QkO_qRK"
   },
   "source": [
    "7.  Based on these observations, what do you hypothesize about drivers who accepted the bar coupons?"
   ]
  },
  {
   "cell_type": "code",
   "metadata": {
    "id": "Y48naDFh_qRL",
    "ExecuteTime": {
     "end_time": "2025-09-20T03:32:33.970985Z",
     "start_time": "2025-09-20T03:32:33.966485Z"
    }
   },
   "source": [
    "print(\"HYPOTHESIS ABOUT DRIVERS WHO ACCEPTED BAR COUPONS:\")\n",
    "print(\"=\"*60)\n",
    "\n",
    "print(\"\"\"\n",
    "Based on the analysis above, I hypothesize that drivers who accepted bar coupons tend to have the following characteristics:\n",
    "\n",
    "1. BAR VISITING FREQUENCY:\n",
    "   - Drivers who go to bars more frequently (more than 3 times a month) are significantly\n",
    "     more likely to accept bar coupons than those who go less frequently or never.\n",
    "   - This suggests that familiarity and comfort with bar environments increases acceptance.\n",
    "\n",
    "2. AGE DEMOGRAPHICS:\n",
    "   - Younger drivers (under 30) show higher acceptance rates, likely due to:\n",
    "     * Greater social activity and nightlife participation\n",
    "     * More flexible schedules and spontaneous decision-making\n",
    "     * Higher comfort level with bar environments\n",
    "\n",
    "3. SOCIAL CONTEXT:\n",
    "   - Drivers without children as passengers are more likely to accept bar coupons\n",
    "   - This makes sense as bars are adult-oriented venues and having kids would be a barrier\n",
    "   - Social situations matter - drivers alone or with adult companions are more receptive\n",
    "\n",
    "4. LIFESTYLE AND INCOME:\n",
    "   - Drivers who frequently visit cheap restaurants (>4 times/month) with lower income (<$50K)\n",
    "     show higher acceptance rates\n",
    "   - This suggests price-conscious consumers who eat out frequently are attracted to deals\n",
    "   - Budget-conscious lifestyle aligns with coupon usage behavior\n",
    "\n",
    "5. OCCUPATION:\n",
    "   - Non-agricultural workers (not farming/fishing/forestry) show different patterns\n",
    "   - Possibly due to different work schedules and social norms\n",
    "\n",
    "KEY HYPOTHESIS:\n",
    "Drivers who accept bar coupons are likely younger, socially active individuals who:\n",
    "- Already have established bar-going habits\n",
    "- Are traveling without children\n",
    "- Are price-conscious and deal-seeking\n",
    "- Have flexible lifestyles that allow for spontaneous decisions\n",
    "\"\"\")\n",
    "\n",
    "print(\"\\nThis suggests that bar coupon marketing should target:\")\n",
    "print(\"- Frequent bar patrons who are already comfortable with the venue type\")\n",
    "print(\"- Younger demographics without family constraints\")\n",
    "print(\"- Price-conscious consumers who eat out regularly\")\n",
    "print(\"- Times/situations when people are traveling without children\")\n"
   ],
   "outputs": [
    {
     "name": "stdout",
     "output_type": "stream",
     "text": [
      "HYPOTHESIS ABOUT DRIVERS WHO ACCEPTED BAR COUPONS:\n",
      "============================================================\n",
      "\n",
      "Based on the analysis above, I hypothesize that drivers who accepted bar coupons tend to have the following characteristics:\n",
      "\n",
      "1. BAR VISITING FREQUENCY:\n",
      "   - Drivers who go to bars more frequently (more than 3 times a month) are significantly\n",
      "     more likely to accept bar coupons than those who go less frequently or never.\n",
      "   - This suggests that familiarity and comfort with bar environments increases acceptance.\n",
      "\n",
      "2. AGE DEMOGRAPHICS:\n",
      "   - Younger drivers (under 30) show higher acceptance rates, likely due to:\n",
      "     * Greater social activity and nightlife participation\n",
      "     * More flexible schedules and spontaneous decision-making\n",
      "     * Higher comfort level with bar environments\n",
      "\n",
      "3. SOCIAL CONTEXT:\n",
      "   - Drivers without children as passengers are more likely to accept bar coupons\n",
      "   - This makes sense as bars are adult-oriented venues and having kids would be a barrier\n",
      "   - Social situations matter - drivers alone or with adult companions are more receptive\n",
      "\n",
      "4. LIFESTYLE AND INCOME:\n",
      "   - Drivers who frequently visit cheap restaurants (>4 times/month) with lower income (<$50K)\n",
      "     show higher acceptance rates\n",
      "   - This suggests price-conscious consumers who eat out frequently are attracted to deals\n",
      "   - Budget-conscious lifestyle aligns with coupon usage behavior\n",
      "\n",
      "5. OCCUPATION:\n",
      "   - Non-agricultural workers (not farming/fishing/forestry) show different patterns\n",
      "   - Possibly due to different work schedules and social norms\n",
      "\n",
      "KEY HYPOTHESIS:\n",
      "Drivers who accept bar coupons are likely younger, socially active individuals who:\n",
      "- Already have established bar-going habits\n",
      "- Are traveling without children\n",
      "- Are price-conscious and deal-seeking\n",
      "- Have flexible lifestyles that allow for spontaneous decisions\n",
      "\n",
      "\n",
      "This suggests that bar coupon marketing should target:\n",
      "- Frequent bar patrons who are already comfortable with the venue type\n",
      "- Younger demographics without family constraints\n",
      "- Price-conscious consumers who eat out regularly\n",
      "- Times/situations when people are traveling without children\n"
     ]
    }
   ],
   "execution_count": 38
  },
  {
   "cell_type": "markdown",
   "metadata": {
    "id": "r4Hu1zOb_qRL"
   },
   "source": [
    "### Independent Investigation\n",
    "\n",
    "Using the bar coupon example as motivation, you are to explore one of the other coupon groups and try to determine the characteristics of passengers who accept the coupons.  "
   ]
  },
  {
   "cell_type": "code",
   "execution_count": null,
   "metadata": {
    "id": "0c71cQhu_qRL"
   },
   "outputs": [],
   "source": []
  },
  {
   "cell_type": "code",
   "execution_count": null,
   "metadata": {
    "id": "QEsBkvIN_qRL"
   },
   "outputs": [],
   "source": []
  },
  {
   "cell_type": "code",
   "execution_count": null,
   "metadata": {
    "id": "fTC2WGE3_qRL"
   },
   "outputs": [],
   "source": []
  }
 ],
 "metadata": {
  "kernelspec": {
   "display_name": "Python 3 (ipykernel)",
   "language": "python",
   "name": "python3"
  },
  "language_info": {
   "codemirror_mode": {
    "name": "ipython",
    "version": 3
   },
   "file_extension": ".py",
   "mimetype": "text/x-python",
   "name": "python",
   "nbconvert_exporter": "python",
   "pygments_lexer": "ipython3",
   "version": "3.12.1"
  },
  "colab": {
   "provenance": []
  }
 },
 "nbformat": 4,
 "nbformat_minor": 0
}
